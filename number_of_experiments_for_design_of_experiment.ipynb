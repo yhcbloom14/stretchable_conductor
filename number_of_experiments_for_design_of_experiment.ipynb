{
 "cells": [
  {
   "cell_type": "code",
   "execution_count": 1,
   "id": "f53d1470",
   "metadata": {},
   "outputs": [
    {
     "name": "stdout",
     "output_type": "stream",
     "text": [
      "The combinations of composition are 23426\n"
     ]
    }
   ],
   "source": [
    "import math\n",
    "\n",
    "# Calculate combinations of composition\n",
    "def cal_num_comp(step_size, num_material):\n",
    "    k = int(1/step_size)\n",
    "    n = num_material - 1 + k    \n",
    "    num_comp = math.comb(n, k)    \n",
    "    return num_comp\n",
    "\n",
    "# In this work, step_size=0.02, num_material=4\n",
    "num_composition = cal_num_comp(step_size=0.02, num_material=4)\n",
    "\n",
    "print('The combinations of composition are ' + str(num_composition))"
   ]
  },
  {
   "cell_type": "code",
   "execution_count": 2,
   "id": "d85a23a2",
   "metadata": {},
   "outputs": [],
   "source": [
    "# Three thicknesses of nanocomposites including 800nm, 1,200nm and 1,600nm\n",
    "# Choice one thickness of the G0 nanocomposite\n",
    "num_thickness = math.comb(3, 1) \n",
    "\n",
    "# Eight combinations of deformation sequence and pre-set strain for nanocomposites including \n",
    "## G1-1D, G1-2D, G2-2D1D-100%, G2-2D1D-200%, G2-2D1D-300%, G2-2D2D-100%, G2-2D2D-200%, G2-2D2D-300%.\n",
    "# Choice one combination of deformation sequence and pre-set strain for the G0 nanocomposite\n",
    "num_deformation_prestrain = math.comb(8, 1) "
   ]
  },
  {
   "cell_type": "code",
   "execution_count": 3,
   "id": "85414354",
   "metadata": {},
   "outputs": [
    {
     "name": "stdout",
     "output_type": "stream",
     "text": [
      "Total number of experiments required for Design of Experiment method is 562224\n"
     ]
    }
   ],
   "source": [
    "# Total number of experiments required for Design of Experiment method\n",
    "total_experiments = num_composition * num_thickness * num_deformation_prestrain\n",
    "\n",
    "print('Total number of experiments required for Design of Experiment method is ' + str(total_experiments))"
   ]
  }
 ],
 "metadata": {
  "kernelspec": {
   "display_name": "Python 3 (ipykernel)",
   "language": "python",
   "name": "python3"
  },
  "language_info": {
   "codemirror_mode": {
    "name": "ipython",
    "version": 3
   },
   "file_extension": ".py",
   "mimetype": "text/x-python",
   "name": "python",
   "nbconvert_exporter": "python",
   "pygments_lexer": "ipython3",
   "version": "3.9.12"
  }
 },
 "nbformat": 4,
 "nbformat_minor": 5
}
